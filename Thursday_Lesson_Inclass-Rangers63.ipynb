{
 "cells": [
  {
   "cell_type": "markdown",
   "metadata": {},
   "source": [
    "# Object-Oriented-Programming (OOP)"
   ]
  },
  {
   "cell_type": "markdown",
   "metadata": {},
   "source": [
    "## Tasks Today:\n",
    "\n",
    "   \n",
    "\n",
    "1) <b>Creating a Class (Initializing/Declaring)</b> <br>\n",
    "2) <b>Using a Class (Instantiating)</b> <br>\n",
    " &nbsp;&nbsp;&nbsp;&nbsp; a) Creating One Instance <br>\n",
    " &nbsp;&nbsp;&nbsp;&nbsp; b) Creating Multiple Instances <br>\n",
    " &nbsp;&nbsp;&nbsp;&nbsp; c) In-Class Exercise #1 - Create a Class 'Car' and instantiate three different makes of cars <br>\n",
    "3) <b>The \\__init\\__() Method</b> <br>\n",
    " &nbsp;&nbsp;&nbsp;&nbsp; a) The 'self' Attribute <br>\n",
    "4) <b>Class Attributes</b> <br>\n",
    " &nbsp;&nbsp;&nbsp;&nbsp; a) Initializing Attributes <br>\n",
    " &nbsp;&nbsp;&nbsp;&nbsp; b) Setting an Attribute Outside of the \\__init\\__() Method <br>\n",
    " &nbsp;&nbsp;&nbsp;&nbsp; c) Setting Defaults for Attributes <br>\n",
    " &nbsp;&nbsp;&nbsp;&nbsp; d) Accessing Class Attributes <br>\n",
    " &nbsp;&nbsp;&nbsp;&nbsp; e) Changing Class Attributes <br>\n",
    " &nbsp;&nbsp;&nbsp;&nbsp; f) In-Class Exercise #2 - Add a color and wheels attribute to your 'Car' class <br>\n",
    "5) <b>Class Methods</b> <br>\n",
    " &nbsp;&nbsp;&nbsp;&nbsp; a) Creating <br>\n",
    " &nbsp;&nbsp;&nbsp;&nbsp; b) Calling <br>\n",
    " &nbsp;&nbsp;&nbsp;&nbsp; c) Modifying an Attribute's Value Through a Method <br>\n",
    " &nbsp;&nbsp;&nbsp;&nbsp; d) Incrementing an Attribute's Value Through a Method <br>\n",
    " &nbsp;&nbsp;&nbsp;&nbsp; e) In-Class Exercise #3 - Add a method that prints the cars color and wheel number, then call them <br>\n",
    "6) <b>Inheritance</b> <br>\n",
    " &nbsp;&nbsp;&nbsp;&nbsp; a) Syntax for Inheriting from a Parent Class <br>\n",
    " &nbsp;&nbsp;&nbsp;&nbsp; b) The \\__init\\__() Method for a Child Class (super()) <br>\n",
    " &nbsp;&nbsp;&nbsp;&nbsp; c) Defining Attributes and Methods for the Child Class <br>\n",
    " &nbsp;&nbsp;&nbsp;&nbsp; d) Method Overriding <br>\n",
    " &nbsp;&nbsp;&nbsp;&nbsp; e) In-Class Exercise #4 - Create a class 'Ford' that inherits from 'Car' class and initialize it as a Blue Ford Explorer with 4 wheels using the super() method <br>\n",
    "7) <b>Classes as Attributes</b> <br>\n",
    "8) <b>Exercises</b> <br>\n",
    " &nbsp;&nbsp;&nbsp;&nbsp; a) Exercise #1 - Turn the shopping cart program from yesterday into an object-oriented program <br>"
   ]
  },
  {
   "cell_type": "markdown",
   "metadata": {},
   "source": [
    "## Creating a Class (Initializing/Declaring)\n",
    "<p>When creating a class, function, or even a variable you are initializing that object. Initializing and Declaring occur at the same time in Python, whereas in lower level languages you have to declare an object before initializing it. This is the first step in the process of using a class.</p>"
   ]
  },
  {
   "cell_type": "code",
   "execution_count": 3,
   "metadata": {},
   "outputs": [],
   "source": [
    "class Car():\n",
    "    wheels = 4\n",
    "    color = 'blue'\n",
    "    make = 'Honda'\n",
    "    model = 'CRV'\n",
    "    \n",
    "my_car = Car() #Creating a new car"
   ]
  },
  {
   "cell_type": "code",
   "execution_count": 4,
   "metadata": {},
   "outputs": [
    {
     "data": {
      "text/plain": [
       "4"
      ]
     },
     "execution_count": 4,
     "metadata": {},
     "output_type": "execute_result"
    }
   ],
   "source": [
    "my_car.wheels"
   ]
  },
  {
   "cell_type": "code",
   "execution_count": 5,
   "metadata": {},
   "outputs": [],
   "source": [
    "dylans_car = Car()"
   ]
  },
  {
   "cell_type": "code",
   "execution_count": 6,
   "metadata": {},
   "outputs": [],
   "source": [
    "dylans_car.color = 'green'"
   ]
  },
  {
   "cell_type": "code",
   "execution_count": 7,
   "metadata": {},
   "outputs": [
    {
     "data": {
      "text/plain": [
       "'green'"
      ]
     },
     "execution_count": 7,
     "metadata": {},
     "output_type": "execute_result"
    }
   ],
   "source": [
    "dylans_car.color"
   ]
  },
  {
   "cell_type": "code",
   "execution_count": 8,
   "metadata": {},
   "outputs": [
    {
     "data": {
      "text/plain": [
       "__main__.Car"
      ]
     },
     "execution_count": 8,
     "metadata": {},
     "output_type": "execute_result"
    }
   ],
   "source": [
    "type(my_car)"
   ]
  },
  {
   "cell_type": "code",
   "execution_count": null,
   "metadata": {},
   "outputs": [],
   "source": []
  },
  {
   "cell_type": "code",
   "execution_count": null,
   "metadata": {},
   "outputs": [],
   "source": []
  },
  {
   "cell_type": "markdown",
   "metadata": {},
   "source": [
    "## Using a Class (Instantiating)\n",
    "<p>The process of creating a class is called <i>Instantiating</i>. Each time you create a variable of that type of class, it is referred to as an <i>Instance</i> of that class. This is the second step in the process of using a class.</p>"
   ]
  },
  {
   "cell_type": "markdown",
   "metadata": {},
   "source": [
    "##### Creating One Instance"
   ]
  },
  {
   "cell_type": "code",
   "execution_count": null,
   "metadata": {},
   "outputs": [],
   "source": [
    "ford = Car()"
   ]
  },
  {
   "cell_type": "markdown",
   "metadata": {},
   "source": [
    "##### Creating Multiple Instances"
   ]
  },
  {
   "cell_type": "code",
   "execution_count": null,
   "metadata": {},
   "outputs": [],
   "source": [
    "ford = Car()\n",
    "toyota = Car()\n"
   ]
  },
  {
   "cell_type": "markdown",
   "metadata": {},
   "source": [
    "##### In-Class Exercise #1 - Create a Class 'Car' and Instantiate three different makes of cars"
   ]
  },
  {
   "cell_type": "code",
   "execution_count": 9,
   "metadata": {},
   "outputs": [],
   "source": [
    "# instance attributes\n",
    "class Person():\n",
    "    def __init__(self, name, eye_color, hair_color, age, fingers=10):\n",
    "        self.name = name\n",
    "        self.eye_color = eye_color\n",
    "        self.hair_color = hair_color\n",
    "        self.age = age\n",
    "        self.fingers = fingers\n",
    "    \n",
    "        \n",
    "    \n",
    "    "
   ]
  },
  {
   "cell_type": "code",
   "execution_count": 10,
   "metadata": {},
   "outputs": [],
   "source": [
    "gabe = Person(\"Gabe\", \"blue\", 'brown', 37, 9)\n",
    "sarah = Person(\"Sarah\", 'green', 'blonde', 42)\n",
    "jimmy = Person(\"Jimmy\", 'brown', 'black', 17)\n",
    "\n"
   ]
  },
  {
   "cell_type": "code",
   "execution_count": 11,
   "metadata": {},
   "outputs": [
    {
     "data": {
      "text/plain": [
       "17"
      ]
     },
     "execution_count": 11,
     "metadata": {},
     "output_type": "execute_result"
    }
   ],
   "source": [
    "jimmy.age"
   ]
  },
  {
   "cell_type": "code",
   "execution_count": 13,
   "metadata": {},
   "outputs": [
    {
     "data": {
      "text/plain": [
       "'Gabe'"
      ]
     },
     "execution_count": 13,
     "metadata": {},
     "output_type": "execute_result"
    }
   ],
   "source": [
    "gabe.name"
   ]
  },
  {
   "cell_type": "code",
   "execution_count": 12,
   "metadata": {},
   "outputs": [
    {
     "data": {
      "text/plain": [
       "'green'"
      ]
     },
     "execution_count": 12,
     "metadata": {},
     "output_type": "execute_result"
    }
   ],
   "source": [
    "sarah.eye_color\n"
   ]
  },
  {
   "cell_type": "code",
   "execution_count": 14,
   "metadata": {},
   "outputs": [
    {
     "data": {
      "text/plain": [
       "9"
      ]
     },
     "execution_count": 14,
     "metadata": {},
     "output_type": "execute_result"
    }
   ],
   "source": [
    "gabe.fingers"
   ]
  },
  {
   "cell_type": "code",
   "execution_count": null,
   "metadata": {},
   "outputs": [],
   "source": []
  },
  {
   "cell_type": "markdown",
   "metadata": {},
   "source": [
    "## The \\__init\\__() Method <br>\n",
    "<p>This method is used in almost every created class, and called only once upon the creation of the class instance. This method will initialize all variables needed for the object.</p>"
   ]
  },
  {
   "cell_type": "code",
   "execution_count": 15,
   "metadata": {},
   "outputs": [],
   "source": [
    "class Car():\n",
    "    def __init__(self, make, model, color, wheels=4):\n",
    "        self.make = make\n",
    "        self.model = model\n",
    "        self.color = color\n",
    "        self.wheels = wheels\n",
    "        "
   ]
  },
  {
   "cell_type": "code",
   "execution_count": 17,
   "metadata": {},
   "outputs": [],
   "source": [
    "crv = Car(\"Honda\", 'CRV', 'Blue')\n",
    "tlx = Car('Acura', \"TLX\", 'Green')\n",
    "semi = Car(\"Ford\", 'Semi', 'Grey', 18)\n",
    "\n"
   ]
  },
  {
   "cell_type": "code",
   "execution_count": 19,
   "metadata": {},
   "outputs": [
    {
     "data": {
      "text/plain": [
       "'Grey'"
      ]
     },
     "execution_count": 19,
     "metadata": {},
     "output_type": "execute_result"
    }
   ],
   "source": [
    "semi.color"
   ]
  },
  {
   "cell_type": "code",
   "execution_count": null,
   "metadata": {},
   "outputs": [],
   "source": [
    "# create a class with at least 4 attributes for your favorite animal"
   ]
  },
  {
   "cell_type": "code",
   "execution_count": 36,
   "metadata": {},
   "outputs": [],
   "source": [
    "class Cat():\n",
    "    def __init__(self, name, color, sex, favorite_food='tuna', tail=1, legs=4, ears=2):\n",
    "        self.name = name\n",
    "        self.color = color\n",
    "        self.sex = sex\n",
    "        self.tail = tail\n",
    "        self.legs = legs\n",
    "        self.ears = ears\n",
    "        self.favorite_food = favorite_food\n",
    "        "
   ]
  },
  {
   "cell_type": "code",
   "execution_count": 37,
   "metadata": {},
   "outputs": [],
   "source": [
    "garfield = Cat('Garfield', 'Orange', 'Male', 'Lasagna')\n",
    "tom = Cat('Tom', 'Grey', 'Male', 'Jerry', ears= 0)\n"
   ]
  },
  {
   "cell_type": "code",
   "execution_count": 38,
   "metadata": {},
   "outputs": [
    {
     "data": {
      "text/plain": [
       "0"
      ]
     },
     "execution_count": 38,
     "metadata": {},
     "output_type": "execute_result"
    }
   ],
   "source": [
    "tom.ears\n",
    "\n",
    "\n"
   ]
  },
  {
   "cell_type": "markdown",
   "metadata": {},
   "source": [
    "##### The 'self' Attribute <br>\n",
    "<p>This attribute is required to keep track of specific instance's attributes. Without the self attribute, the program would not know how to reference or keep track of an instance's attributes.</p>"
   ]
  },
  {
   "cell_type": "code",
   "execution_count": null,
   "metadata": {},
   "outputs": [],
   "source": [
    "# see above"
   ]
  },
  {
   "cell_type": "markdown",
   "metadata": {},
   "source": [
    "## Class Attributes <br>\n",
    "<p>While variables are inside of a class, they are referred to as attributes and not variables. When someone says 'attribute' you know they're speaking about a class. Attributes can be initialized through the init method, or outside of it.</p>"
   ]
  },
  {
   "cell_type": "markdown",
   "metadata": {},
   "source": [
    "##### Initializing Attributes"
   ]
  },
  {
   "cell_type": "code",
   "execution_count": 39,
   "metadata": {},
   "outputs": [],
   "source": [
    "# see above\n",
    "class Car:\n",
    "    wheels = 4\n",
    "    color = 'red'\n",
    "    \n",
    "my_car = Car()"
   ]
  },
  {
   "cell_type": "code",
   "execution_count": null,
   "metadata": {},
   "outputs": [],
   "source": []
  },
  {
   "cell_type": "code",
   "execution_count": null,
   "metadata": {},
   "outputs": [],
   "source": []
  },
  {
   "cell_type": "markdown",
   "metadata": {},
   "source": [
    "##### Accessing Class Attributes"
   ]
  },
  {
   "cell_type": "code",
   "execution_count": 40,
   "metadata": {
    "scrolled": true
   },
   "outputs": [
    {
     "data": {
      "text/plain": [
       "4"
      ]
     },
     "execution_count": 40,
     "metadata": {},
     "output_type": "execute_result"
    }
   ],
   "source": [
    "# See Above\n",
    "my_car.wheels\n"
   ]
  },
  {
   "cell_type": "markdown",
   "metadata": {},
   "source": [
    "##### Setting Defaults for Attributes"
   ]
  },
  {
   "cell_type": "code",
   "execution_count": null,
   "metadata": {},
   "outputs": [],
   "source": []
  },
  {
   "cell_type": "markdown",
   "metadata": {},
   "source": [
    "##### Changing Class Attributes <br>\n",
    "<p>Keep in mind there are global class attributes and then there are attributes only available to each class instance which won't effect other classes.</p>"
   ]
  },
  {
   "cell_type": "code",
   "execution_count": 42,
   "metadata": {},
   "outputs": [],
   "source": [
    "my_car.wheels = 3\n",
    "    "
   ]
  },
  {
   "cell_type": "code",
   "execution_count": 43,
   "metadata": {},
   "outputs": [
    {
     "data": {
      "text/plain": [
       "3"
      ]
     },
     "execution_count": 43,
     "metadata": {},
     "output_type": "execute_result"
    }
   ],
   "source": [
    "my_car.wheels "
   ]
  },
  {
   "cell_type": "code",
   "execution_count": 46,
   "metadata": {},
   "outputs": [],
   "source": [
    "# instance attributes\n",
    "class Person():\n",
    "    _list = []\n",
    "    def __init__(self, name, eye_color, hair_color, age, fingers=10):\n",
    "        self.name = name\n",
    "        self.eye_color = eye_color\n",
    "        self.hair_color = hair_color\n",
    "        self.age = age\n",
    "        self.fingers = fingers\n",
    "        \n",
    "        self._list.append(self)\n",
    "        \n",
    "        \n",
    "    \n",
    "gabe = Person(\"Gabe\", \"blue\", 'brown', 37, 9)\n",
    "sarah = Person(\"Sarah\", 'green', 'blonde', 42)\n",
    "jimmy = Person(\"Jimmy\", 'brown', 'black', 17)\n",
    "\n"
   ]
  },
  {
   "cell_type": "code",
   "execution_count": 47,
   "metadata": {},
   "outputs": [
    {
     "data": {
      "text/plain": [
       "[<__main__.Person at 0x1f2052e30d0>,\n",
       " <__main__.Person at 0x1f2052e37c0>,\n",
       " <__main__.Person at 0x1f2052e37f0>]"
      ]
     },
     "execution_count": 47,
     "metadata": {},
     "output_type": "execute_result"
    }
   ],
   "source": [
    "gabe._list"
   ]
  },
  {
   "cell_type": "code",
   "execution_count": 49,
   "metadata": {},
   "outputs": [
    {
     "data": {
      "text/plain": [
       "'Gabe'"
      ]
     },
     "execution_count": 49,
     "metadata": {},
     "output_type": "execute_result"
    }
   ],
   "source": [
    "sarah._list[0].name"
   ]
  },
  {
   "cell_type": "code",
   "execution_count": 51,
   "metadata": {},
   "outputs": [
    {
     "data": {
      "text/plain": [
       "[<__main__.Person at 0x1f2052e30d0>,\n",
       " <__main__.Person at 0x1f2052e37c0>,\n",
       " <__main__.Person at 0x1f2052e37f0>]"
      ]
     },
     "execution_count": 51,
     "metadata": {},
     "output_type": "execute_result"
    }
   ],
   "source": [
    "Person._list"
   ]
  },
  {
   "cell_type": "code",
   "execution_count": null,
   "metadata": {},
   "outputs": [],
   "source": []
  },
  {
   "cell_type": "code",
   "execution_count": 50,
   "metadata": {},
   "outputs": [
    {
     "data": {
      "text/plain": [
       "'Jimmy'"
      ]
     },
     "execution_count": 50,
     "metadata": {},
     "output_type": "execute_result"
    }
   ],
   "source": [
    "jimmy._list[2].name"
   ]
  },
  {
   "cell_type": "markdown",
   "metadata": {},
   "source": [
    "##### In-Class Exercise #2 - Add a doors and seats attribute to your 'Car' class then print out two different instances with different doors and seats"
   ]
  },
  {
   "cell_type": "code",
   "execution_count": 52,
   "metadata": {},
   "outputs": [],
   "source": [
    "class Car():\n",
    "    def __init__(self, make, model, color, seats, doors=5, wheels=4):\n",
    "        self.make = make\n",
    "        self.model = model\n",
    "        self.color = color\n",
    "        self.wheels = wheels\n",
    "        self.seats = seats\n",
    "        self.doors = doors\n",
    "        \n",
    "\n",
    "        "
   ]
  },
  {
   "cell_type": "code",
   "execution_count": 53,
   "metadata": {},
   "outputs": [],
   "source": [
    "crv = Car('Honda', 'CRV', 'Grey', 7, 4)\n",
    "roadie = Car('Audi', 'Roadie', 'Silver', 4, 2)"
   ]
  },
  {
   "cell_type": "code",
   "execution_count": 54,
   "metadata": {},
   "outputs": [
    {
     "data": {
      "text/plain": [
       "4"
      ]
     },
     "execution_count": 54,
     "metadata": {},
     "output_type": "execute_result"
    }
   ],
   "source": [
    "roadie.seats"
   ]
  },
  {
   "cell_type": "code",
   "execution_count": 55,
   "metadata": {},
   "outputs": [
    {
     "data": {
      "text/plain": [
       "4"
      ]
     },
     "execution_count": 55,
     "metadata": {},
     "output_type": "execute_result"
    }
   ],
   "source": [
    "crv.doors"
   ]
  },
  {
   "cell_type": "code",
   "execution_count": 56,
   "metadata": {},
   "outputs": [
    {
     "name": "stdout",
     "output_type": "stream",
     "text": [
      "YourGrey Honda CRV has 4 doors and 7 seats\n"
     ]
    }
   ],
   "source": [
    "print(f'Your{crv.color} {crv.make} {crv.model} has {crv.doors} doors and {crv.seats} seats')"
   ]
  },
  {
   "cell_type": "code",
   "execution_count": 57,
   "metadata": {},
   "outputs": [
    {
     "name": "stdout",
     "output_type": "stream",
     "text": [
      "Your Silver Audi Roadie has 2 doors and 4 seats\n"
     ]
    }
   ],
   "source": [
    "print(f'Your {roadie.color} {roadie.make} {roadie.model} has {roadie.doors} doors and {roadie.seats} seats')"
   ]
  },
  {
   "cell_type": "markdown",
   "metadata": {},
   "source": [
    "## Class Methods <br>\n",
    "<p>While inside of a class, functions are referred to as 'methods'. If you hear someone mention methods, they're speaking about classes. Methods are essentially functions, but only callable on the instances of a class.</p>"
   ]
  },
  {
   "cell_type": "code",
   "execution_count": 97,
   "metadata": {},
   "outputs": [],
   "source": [
    "class Car():\n",
    "    \n",
    "    def __init__(self, make, model, color, seats, doors=5, miles=0, wheels=4):\n",
    "        self.make = make\n",
    "        self.model = model\n",
    "        self.color = color\n",
    "        self.wheels = wheels\n",
    "        self.seats = seats\n",
    "        self.doors = doors\n",
    "        self.miles = miles\n",
    "        \n",
    "        \n",
    "    def print_info(self):\n",
    "        print(f'Your {self.color} {self.make} {self.model} has {self.doors} doors and {self.seats} seats')\n",
    "        \n",
    "        #modify an attribute's value through method\n",
    "    def paint(self, new_color):\n",
    "        print(f'Your car was printed {new_color}')\n",
    "        self.color = new_color\n",
    "        \n",
    "    #incrementing an attributes value through a method\n",
    "    def drive(self, miles_driven):\n",
    "        print(\"VROOM VRRROOM!\")\n",
    "        self.miles += miles_driven\n",
    "    "
   ]
  },
  {
   "cell_type": "code",
   "execution_count": 98,
   "metadata": {},
   "outputs": [],
   "source": [
    "crv = Car('Honda', 'CRV', 'Grey', 7, 4)\n",
    "roadie = Car('Audi', 'Roadie', 'Silver', 4, 2)"
   ]
  },
  {
   "cell_type": "code",
   "execution_count": 99,
   "metadata": {},
   "outputs": [
    {
     "name": "stdout",
     "output_type": "stream",
     "text": [
      "Your Silver Audi Roadie has 2 doors and 4 seats\n",
      "Your Grey Honda CRV has 4 doors and 7 seats\n"
     ]
    }
   ],
   "source": [
    "roadie.print_info()\n",
    "crv.print_info()"
   ]
  },
  {
   "cell_type": "code",
   "execution_count": 100,
   "metadata": {},
   "outputs": [
    {
     "name": "stdout",
     "output_type": "stream",
     "text": [
      "Your car was printed white\n"
     ]
    },
    {
     "data": {
      "text/plain": [
       "'white'"
      ]
     },
     "execution_count": 100,
     "metadata": {},
     "output_type": "execute_result"
    }
   ],
   "source": [
    "crv.paint('white')\n",
    "crv.color"
   ]
  },
  {
   "cell_type": "raw",
   "metadata": {},
   "source": [
    "crv.drive(60)"
   ]
  },
  {
   "cell_type": "code",
   "execution_count": 83,
   "metadata": {},
   "outputs": [
    {
     "data": {
      "text/plain": [
       "0"
      ]
     },
     "execution_count": 83,
     "metadata": {},
     "output_type": "execute_result"
    }
   ],
   "source": [
    "crv.miles\n"
   ]
  },
  {
   "cell_type": "markdown",
   "metadata": {},
   "source": [
    "##### Creating"
   ]
  },
  {
   "cell_type": "code",
   "execution_count": null,
   "metadata": {},
   "outputs": [],
   "source": []
  },
  {
   "cell_type": "markdown",
   "metadata": {},
   "source": [
    "##### Calling"
   ]
  },
  {
   "cell_type": "code",
   "execution_count": null,
   "metadata": {},
   "outputs": [],
   "source": [
    "# See Above"
   ]
  },
  {
   "cell_type": "markdown",
   "metadata": {},
   "source": [
    "##### Modifying an Attribute's Value Through a Method"
   ]
  },
  {
   "cell_type": "code",
   "execution_count": null,
   "metadata": {},
   "outputs": [],
   "source": []
  },
  {
   "cell_type": "markdown",
   "metadata": {},
   "source": [
    "##### Incrementing an Attribute's Value Through a Method"
   ]
  },
  {
   "cell_type": "code",
   "execution_count": null,
   "metadata": {},
   "outputs": [],
   "source": []
  },
  {
   "cell_type": "markdown",
   "metadata": {},
   "source": [
    "##### In-Class Exercise #3 - Add a method that takes in three parameters of year, doors and seats and prints out a formatted print statement with make, model, year, seats, and doors"
   ]
  },
  {
   "cell_type": "code",
   "execution_count": 101,
   "metadata": {},
   "outputs": [],
   "source": [
    "# Create class with 2 paramters inside of the __init__ which are make and model\n",
    "\n",
    "# Inside of the Car class create a method that has 4 parameter in total (self,year,door,seats)\n",
    "\n",
    "# Output: This car is from 2019 and is a Ford Expolorer and has 4 doors and 5 seats\n",
    "\n",
    "class Car():\n",
    "    \n",
    "    def __init__(self, make, model, color, seats, doors=5, miles=0, wheels=4):\n",
    "        self.make = make\n",
    "        self.model = model\n",
    "        self.color = color\n",
    "        self.wheels = wheels\n",
    "        self.seats = seats\n",
    "        self.doors = doors\n",
    "        self.miles = miles\n",
    "        \n",
    "        \n",
    "    def print_info(self):\n",
    "        print(f'Your {self.color} {self.make} {self.model} has {self.doors} doors and {self.seats} seats')\n",
    "        \n",
    "        #modify an attribute's value through method\n",
    "    def paint(self, new_color):\n",
    "        print(f'Your car was printed {new_color}')\n",
    "        self.color = new_color\n",
    "        \n",
    "    #incrementing an attributes value through a method\n",
    "    def drive(self, miles_driven):\n",
    "        print(\"VROOM VRRROOM!\")\n",
    "        self.miles += miles_driven\n",
    "    \n",
    "    def info(self, year):\n",
    "        print(f'This is a car from {year} and it is a {self.make} {self.model} and it has {self.doors} doors and {self.seats} seats.')\n",
    "    "
   ]
  },
  {
   "cell_type": "code",
   "execution_count": 102,
   "metadata": {},
   "outputs": [],
   "source": [
    "crv = Car('Honda', 'CRV', 'Grey', 7, 4)\n",
    "roadie = Car('Audi', 'Roadie', 'Silver', 4, 2)"
   ]
  },
  {
   "cell_type": "code",
   "execution_count": 107,
   "metadata": {},
   "outputs": [
    {
     "name": "stdout",
     "output_type": "stream",
     "text": [
      "VROOM VRRROOM!\n"
     ]
    }
   ],
   "source": [
    "crv.drive(90)"
   ]
  },
  {
   "cell_type": "code",
   "execution_count": 109,
   "metadata": {},
   "outputs": [
    {
     "name": "stdout",
     "output_type": "stream",
     "text": [
      "VROOM VRRROOM!\n"
     ]
    }
   ],
   "source": [
    "crv.drive(60)"
   ]
  },
  {
   "cell_type": "code",
   "execution_count": 104,
   "metadata": {},
   "outputs": [
    {
     "name": "stdout",
     "output_type": "stream",
     "text": [
      "This is a car from 2018 and it is a Honda CRV and it has 4 doors and 7 seats.\n"
     ]
    }
   ],
   "source": [
    "crv.info(2018)"
   ]
  },
  {
   "cell_type": "code",
   "execution_count": 108,
   "metadata": {},
   "outputs": [
    {
     "data": {
      "text/plain": [
       "270"
      ]
     },
     "execution_count": 108,
     "metadata": {},
     "output_type": "execute_result"
    }
   ],
   "source": [
    "crv.miles"
   ]
  },
  {
   "cell_type": "markdown",
   "metadata": {},
   "source": [
    "## Inheritance <br>\n",
    "<p>You can create a child-parent relationship between two classes by using inheritance. What this allows you to do is have overriding methods, but also inherit traits from the parent class. Think of it as an actual parent and child, the child will inherit the parent's genes, as will the classes in OOP</p>"
   ]
  },
  {
   "cell_type": "markdown",
   "metadata": {},
   "source": [
    "##### Syntax for Inheriting from a Parent Class"
   ]
  },
  {
   "cell_type": "code",
   "execution_count": 21,
   "metadata": {},
   "outputs": [],
   "source": [
    "class Animal:\n",
    "    def __init__(self, name, sex, age):\n",
    "        self.name = name\n",
    "        self.sex = sex\n",
    "        self.age = age\n",
    "        print(\"Initializing Animal\")\n",
    "        \n",
    "    def have_birthday(self):\n",
    "        self.age += 1\n",
    "\n",
    "class Cat(Animal):\n",
    "    def __init__(self, name, color, sex, age= 0, favorite_food='tuna', tail=1, legs=4, ears=2):\n",
    "        self.color = color\n",
    "        self.tail = tail\n",
    "        self.legs = legs\n",
    "        self.ears = ears\n",
    "        self.favorite_food = favorite_food\n",
    "        print(\"Initializing Cat\")\n",
    "        super().__init__(name, sex, age)\n",
    "        \n",
    "class Dog(Animal):\n",
    "    def __init__(self, name, color, sex, age=0, breed= \"Pit bull\", legs=4):\n",
    "        self.breed = breed\n",
    "        self.color = color\n",
    "        self.legs = legs\n",
    "        print(\"Initializing Dog\")\n",
    "        super().__init__(name, sex, age)\n",
    "        \n",
    "class Penguin(Animal):\n",
    "    def __init__(self, name, sex, color=\"tuxedo\", age= 0, favorite_food='tuna', tail=1, legs=2):\n",
    "        self.color = color\n",
    "        self.favorite_food = favorite_food\n",
    "        self.tail = tail\n",
    "        self.legs = legs\n",
    "        print(\"Initializing Penguin\")\n",
    "        super().__init__(name, sex, age)"
   ]
  },
  {
   "cell_type": "code",
   "execution_count": 25,
   "metadata": {},
   "outputs": [
    {
     "name": "stdout",
     "output_type": "stream",
     "text": [
      "Initializing Dog\n",
      "Initializing Animal\n",
      "Initializing Penguin\n",
      "Initializing Animal\n"
     ]
    }
   ],
   "source": [
    "# my_cat = Cat('Timmy', 'Black', 'Male')\n",
    "my_dog = Dog('Fido', 'Yellow','Female')\n",
    "my_penguin = Penguin('Lovelace', 'Male')"
   ]
  },
  {
   "cell_type": "code",
   "execution_count": 23,
   "metadata": {},
   "outputs": [],
   "source": [
    "my_penguin.have_birthday()"
   ]
  },
  {
   "cell_type": "code",
   "execution_count": 24,
   "metadata": {},
   "outputs": [
    {
     "data": {
      "text/plain": [
       "1"
      ]
     },
     "execution_count": 24,
     "metadata": {},
     "output_type": "execute_result"
    }
   ],
   "source": [
    "my_penguin.age"
   ]
  },
  {
   "cell_type": "code",
   "execution_count": 11,
   "metadata": {},
   "outputs": [
    {
     "data": {
      "text/plain": [
       "'Timmy'"
      ]
     },
     "execution_count": 11,
     "metadata": {},
     "output_type": "execute_result"
    }
   ],
   "source": [
    "my_cat.name\n"
   ]
  },
  {
   "cell_type": "code",
   "execution_count": 12,
   "metadata": {},
   "outputs": [
    {
     "data": {
      "text/plain": [
       "'Male'"
      ]
     },
     "execution_count": 12,
     "metadata": {},
     "output_type": "execute_result"
    }
   ],
   "source": [
    "my_cat.sex"
   ]
  },
  {
   "cell_type": "code",
   "execution_count": null,
   "metadata": {},
   "outputs": [],
   "source": []
  },
  {
   "cell_type": "markdown",
   "metadata": {},
   "source": [
    "##### The \\__init\\__() Method for a Child Class - super()"
   ]
  },
  {
   "cell_type": "code",
   "execution_count": null,
   "metadata": {
    "scrolled": true
   },
   "outputs": [],
   "source": [
    "super().__init__(name, sex, age)"
   ]
  },
  {
   "cell_type": "markdown",
   "metadata": {},
   "source": [
    "##### Defining Attributes and Methods for the Child Class"
   ]
  },
  {
   "cell_type": "code",
   "execution_count": null,
   "metadata": {},
   "outputs": [],
   "source": [
    "# See Above"
   ]
  },
  {
   "cell_type": "markdown",
   "metadata": {},
   "source": [
    "##### Method Overriding"
   ]
  },
  {
   "cell_type": "code",
   "execution_count": 86,
   "metadata": {},
   "outputs": [],
   "source": [
    "class Animal:\n",
    "    \n",
    "    def __init__(self, name, sex, age, color):\n",
    "        self.cls = 'Animal'\n",
    "        self.name = name\n",
    "        self.sex = sex\n",
    "        self.age = age\n",
    "        self.color = color\n",
    "        print(\"Initializing Animal\")\n",
    "        \n",
    "    def have_birthday(self):\n",
    "        self.age += 1\n",
    "        \n",
    "    def __repr__(self):\n",
    "        return f'<{self.cls} {self.name} {self.color}>'\n",
    "    \n",
    "    def __str__(self):\n",
    "        return f'{self.name} is a {self.color} {self.cls.lower()} who is {self.age} years old'\n",
    "\n",
    "class Cat(Animal):\n",
    "    def __init__(self, name, color, sex, age= 0, favorite_food='tuna', tail=1, legs=4, ears=2):\n",
    "        self.color = color\n",
    "        self.tail = tail\n",
    "        self.legs = legs\n",
    "        self.ears = ears\n",
    "        self.favorite_food = favorite_food\n",
    "        print(\"Initializing Cat\")\n",
    "        super().__init__(name, sex, age, color)\n",
    "        self.cls = 'Cat'\n",
    "\n",
    "        \n",
    "    \n",
    "class Dog(Animal):\n",
    "    def __init__(self, name, color, sex, age=0, breed= \"Pit bull\", legs=4):\n",
    "        self.breed = breed\n",
    "        self.color = color\n",
    "        self.legs = legs\n",
    "        self.cls = 'Dog'\n",
    "\n",
    "        print(\"Initializing Dog\")\n",
    "        super().__init__(name, sex, age, color)\n",
    "        \n",
    "         \n",
    "        \n",
    "    def have_birthday(self):\n",
    "        self.age += 7\n",
    "        \n",
    "class Penguin(Animal):\n",
    "    def __init__(self, name, sex, color=\"tuxedo\", age= 0, favorite_food='tuna', tail=1, legs=2):\n",
    "        self.color = color\n",
    "        self.favorite_food = favorite_food\n",
    "        self.tail = tail\n",
    "        self.legs = legs\n",
    "\n",
    "\n",
    "        print(\"Initializing Penguin\")\n",
    "        super().__init__(name, sex, age, color)# See Above\n",
    "        \n",
    "        self.cls = 'Penguin'\n",
    "        \n"
   ]
  },
  {
   "cell_type": "code",
   "execution_count": 87,
   "metadata": {
    "scrolled": true
   },
   "outputs": [
    {
     "name": "stdout",
     "output_type": "stream",
     "text": [
      "Initializing Cat\n",
      "Initializing Animal\n",
      "Initializing Cat\n",
      "Initializing Animal\n",
      "Initializing Dog\n",
      "Initializing Animal\n",
      "Initializing Penguin\n",
      "Initializing Animal\n"
     ]
    }
   ],
   "source": [
    "my_cat = Cat('Timmy', 'Black', 'Male')\n",
    "my_cat3 = Cat('Spots', 'Orange', 'Female')\n",
    "my_dog = Dog('Fido', 'Yellow','Female')\n",
    "my_penguin = Penguin('Lovelace', 'Male')"
   ]
  },
  {
   "cell_type": "code",
   "execution_count": 88,
   "metadata": {
    "scrolled": true
   },
   "outputs": [
    {
     "name": "stdout",
     "output_type": "stream",
     "text": [
      "0\n",
      "0\n"
     ]
    }
   ],
   "source": [
    "print(my_cat.age)\n",
    "print(my_dog.age)"
   ]
  },
  {
   "cell_type": "code",
   "execution_count": 89,
   "metadata": {},
   "outputs": [
    {
     "data": {
      "text/plain": [
       "<Penguin Lovelace tuxedo>"
      ]
     },
     "execution_count": 89,
     "metadata": {},
     "output_type": "execute_result"
    }
   ],
   "source": [
    "my_penguin"
   ]
  },
  {
   "cell_type": "code",
   "execution_count": 90,
   "metadata": {},
   "outputs": [
    {
     "data": {
      "text/plain": [
       "'Lovelace is a tuxedo penguin who is 0 years old'"
      ]
     },
     "execution_count": 90,
     "metadata": {},
     "output_type": "execute_result"
    }
   ],
   "source": [
    "str(my_penguin)"
   ]
  },
  {
   "cell_type": "code",
   "execution_count": 33,
   "metadata": {},
   "outputs": [],
   "source": [
    "my_cat.have_birthday()"
   ]
  },
  {
   "cell_type": "code",
   "execution_count": 37,
   "metadata": {},
   "outputs": [],
   "source": [
    "my_dog.have_birthday()"
   ]
  },
  {
   "cell_type": "code",
   "execution_count": 38,
   "metadata": {},
   "outputs": [
    {
     "data": {
      "text/plain": [
       "21"
      ]
     },
     "execution_count": 38,
     "metadata": {},
     "output_type": "execute_result"
    }
   ],
   "source": [
    "my_dog.age"
   ]
  },
  {
   "cell_type": "markdown",
   "metadata": {},
   "source": [
    "## Classes as Attributes <br>\n",
    "<p>Classes can also be used as attributes within another class. This is useful in situations where you need to keep variables locally stored, instead of globally stored.</p>"
   ]
  },
  {
   "cell_type": "code",
   "execution_count": 111,
   "metadata": {},
   "outputs": [],
   "source": [
    "class Person:\n",
    "    def __init__(self, name):\n",
    "        self.name=name\n",
    "        \n",
    "class Pet:\n",
    "    def __init__(self, name, owner):\n",
    "        self.name = name\n",
    "        self.owner = owner"
   ]
  },
  {
   "cell_type": "code",
   "execution_count": 112,
   "metadata": {},
   "outputs": [],
   "source": [
    "me = Person(\"Charles\")\n",
    "dylan = Person(\"Dylan\")\n",
    "\n",
    "ariel = Pet('Ariel', me)\n",
    "imaginary_pet = Pet(\"Imi\", dylan)\n",
    "\n"
   ]
  },
  {
   "cell_type": "code",
   "execution_count": 113,
   "metadata": {},
   "outputs": [
    {
     "data": {
      "text/plain": [
       "'Charles'"
      ]
     },
     "execution_count": 113,
     "metadata": {},
     "output_type": "execute_result"
    }
   ],
   "source": [
    "ariel.owner.name\n"
   ]
  },
  {
   "cell_type": "code",
   "execution_count": 114,
   "metadata": {},
   "outputs": [
    {
     "data": {
      "text/plain": [
       "'Dylan'"
      ]
     },
     "execution_count": 114,
     "metadata": {},
     "output_type": "execute_result"
    }
   ],
   "source": [
    "imaginary_pet.owner.name"
   ]
  },
  {
   "cell_type": "code",
   "execution_count": 125,
   "metadata": {},
   "outputs": [
    {
     "name": "stdout",
     "output_type": "stream",
     "text": [
      "Person's Name: charles\n",
      "Person's Address: gannet\n",
      "Would you like to continue (y/n)? y\n",
      "Person's Name: john\n",
      "Person's Address: ten st\n",
      "Would you like to continue (y/n)? n\n",
      "[<__main__.Person object at 0x000001F205CA8430>, <__main__.Person object at 0x000001F205532D30>]\n"
     ]
    }
   ],
   "source": [
    "class AddressBook:\n",
    "    def __init__(self):\n",
    "        self.user_list = []\n",
    "        \n",
    "    def entry_add(self, person):\n",
    "        self.user_list.append(person)\n",
    "        \n",
    "        \n",
    "class Person:\n",
    "    def __init__(self, name, address, owner):\n",
    "        self.name = name\n",
    "        self.address = address\n",
    "        self.owner = owner\n",
    "    \n",
    "\n",
    "def addressbook():\n",
    " from IPython.display import clear_output\n",
    "\n",
    "# step 2\n",
    "\n",
    "# step 1\n",
    "def store_user_info(name, address):\n",
    "    address_book[name] = address\n",
    "    \n",
    "def main():\n",
    "    # step 3\n",
    "    address_book = AddressBook()\n",
    "    while True:\n",
    "#         clear_output()\n",
    "        # step 4\n",
    "        \n",
    "        \n",
    "        name = input(\"Person's Name: \")\n",
    "        address = input(\"Person's Address: \")\n",
    "        \n",
    "        # step 6\n",
    "        name = Person(name, address, address_book)\n",
    "        address_book.entry_add(name)\n",
    "        \n",
    "        cont = input(\"Would you like to continue (y/n)? \")\n",
    "        \n",
    "        # step 5\n",
    "        if cont == 'n':\n",
    "            # step 5b\n",
    "            break\n",
    "            \n",
    "    # step 5a\n",
    "    print(address_book.user_list)\n",
    "    \n",
    "# step 7\n",
    "main()\n",
    "        "
   ]
  },
  {
   "cell_type": "code",
   "execution_count": 126,
   "metadata": {},
   "outputs": [
    {
     "name": "stdout",
     "output_type": "stream",
     "text": [
      "Person's Name: Charles \n",
      "Person's Address: 44 gannet\n",
      "Person's Phone number: wer234234\n",
      "Person's email: lasdfsfs@.com\n",
      "Charles  was added to your contacts.\n",
      "Would you like to continue (y/n)? n\n",
      "[<__main__.Person object at 0x000001F205532C70>]\n"
     ]
    }
   ],
   "source": [
    "\n",
    "from IPython.display import clear_output\n",
    "\n",
    "class AddressBook:\n",
    "    def __init__(self):\n",
    "        self.contacts = []\n",
    "        \n",
    "        \n",
    "    def add_contact(self, new_contact):\n",
    "        print(f'{new_contact.name} was added to your contacts.')\n",
    "        self.contacts.append(new_contact)\n",
    "        \n",
    "    def show_contacts(self, contacts):\n",
    "        \n",
    "        \n",
    "    # delete_contact\n",
    "    # show_contact\n",
    "        \n",
    "        \n",
    "class Person:\n",
    "    def __init__(self, name, address, phone_number, email):\n",
    "        self.name = name\n",
    "        self.address = address\n",
    "        self.phone_number = phone_number\n",
    "        self.email = email\n",
    "        \n",
    "# step 2\n",
    "address_book = {}\n",
    "\n",
    "# step 1\n",
    "def store_user_info(name, address):\n",
    "    address_book[name] = address\n",
    "    \n",
    "def main():\n",
    "    # step 3\n",
    "    address_book = AddressBook()\n",
    "    while True:\n",
    "        # step 4\n",
    "        name = input(\"Person's Name: \")\n",
    "        address = input(\"Person's Address: \")\n",
    "        phone_number = input(\"Person's Phone number: \")\n",
    "        email = input(\"Person's email: \")\n",
    "        # step 6\n",
    "        new_contact = Person(name, address, phone_number, email)\n",
    "        address_book.add_contact(new_contact)\n",
    "        \n",
    "        cont = input(\"Would you like to continue (y/n)? \")\n",
    "        \n",
    "        # step 5\n",
    "        if cont == 'n':\n",
    "            # step 5b\n",
    "            break\n",
    "            \n",
    "    # step 5a\n",
    "    print(address_book.contacts)\n",
    "    \n",
    "# step 7\n",
    "main()"
   ]
  },
  {
   "cell_type": "markdown",
   "metadata": {},
   "source": [
    "# Exercises"
   ]
  },
  {
   "cell_type": "markdown",
   "metadata": {},
   "source": [
    "### Exercise 1 - Turn the shopping cart program from yesterday into an object-oriented program\n",
    "\n",
    "The comments in the cell below are there as a guide for thinking about the problem. However, if you feel a different way is best for you and your own thought process, please do what feels best for you by all means."
   ]
  },
  {
   "cell_type": "code",
   "execution_count": null,
   "metadata": {},
   "outputs": [
    {
     "name": "stdout",
     "output_type": "stream",
     "text": [
      "What do you want to do? (Show/Add/Delete/Reduce/Quit) add\n",
      "Product name: apples\n",
      "Product Quantity: 45\n",
      "Product price: 2\n",
      "Apples added to cart successfully!\n",
      "Press enter to continuequit\n",
      "What do you want to do? (Show/Add/Delete/Reduce/Quit) quit\n",
      "Thank you for shopping!\n",
      "~=~~=~~=~~=~~=~~=~~=~~=~~=~~=~~=~~=~~=~~=~~=~~=~~=~~=~~=~~=~~=~~=~~=~~=~~=~\n",
      "Apples x45 $90.00\n",
      "Total:$90.00\n",
      "~=~~=~~=~~=~~=~~=~~=~~=~~=~~=~~=~~=~~=~~=~~=~~=~~=~~=~~=~~=~~=~~=~~=~~=~~=~\n"
     ]
    }
   ],
   "source": [
    "# Create a class called cart that retains items and has methods to add, remove, and show\n",
    "from shopping_text import options as opt\n",
    "from shopping_text import text as txt\n",
    "\n",
    "class Cart():\n",
    "    def __init__(self):\n",
    "        self.cart = []\n",
    "        \n",
    "        # Added decrease option because we can have multiple identical name entries\n",
    "    def decrease_product(self, product):\n",
    "        for item in self.cart:\n",
    "            if item.name == product:\n",
    "                reduce = input(txt['reduce'].format(quantity=item.quantity, product=product))\n",
    "                item.quantity -= int(reduce)\n",
    "                print('{reduce} {product} removed. you now have {quantity} {name} in your cart.'.format(reduce=reduce, product=product, quantity=item.quantity, name=product))\n",
    "        return\n",
    "        \n",
    "        print(txt['delete_error'].format(product=product.title()))\n",
    "\n",
    "    def add_product(self, product):\n",
    "            self.cart.append(product)\n",
    "            print(txt['add_success'].format(name=product.name.title()))\n",
    "        \n",
    "    def show_cart(self): \n",
    "        print(txt['cart_divider'])\n",
    "\n",
    "        total = 0\n",
    "        for product in self.cart:\n",
    "            item_total = product.quantity * product.price\n",
    "            # Changed keys to match what was in the text file\n",
    "            print(txt[\"item_line\"].format(key=product.name.title(),quantity=product.quantity, item_total=item_total))\n",
    "            total += item_total\n",
    "        print(txt['total_line'].format(total=total))\n",
    "\n",
    "        print(txt['cart_divider'])\n",
    "    \n",
    "    def delete_product(self, product):\n",
    "        # if product ==  product.name in product_list:\n",
    "        for item in self.cart:\n",
    "            if item.name == product:\n",
    "                self.cart.remove(item)\n",
    "                print(f'{product} removed')\n",
    "                break\n",
    " \n",
    "        print(txt['delete_error'].format(product=product.title()))\n",
    "    \n",
    "class Product:\n",
    "    def __init__(self, name, quantity, price):\n",
    "        self.name = name\n",
    "        self. quantity = quantity\n",
    "        self.price = price\n",
    "    \n",
    "\n",
    "def main():\n",
    "    # instantiating the class of Cart and making a persistent list for the products\n",
    "    shopping_cart = Cart()\n",
    "    application_running = True\n",
    "    while application_running == True:\n",
    "\n",
    "        # text prompt for task\n",
    "        choice = input(txt['main_prompt']).lower().strip()\n",
    "        if choice in opt['show_options']:\n",
    "            shopping_cart.show_cart()\n",
    "\n",
    "        # input prompts for adding to cart\n",
    "        elif choice in opt['add_options']:\n",
    "            product = input(txt['add_name']).lower().strip()\n",
    "            quantity = int(input(txt['add_quantity']))\n",
    "            price = float(input(txt['add_price']))\n",
    "            product = Product(product, quantity, price)\n",
    "            shopping_cart.add_product(product)\n",
    "\n",
    "         # input prompts for deleting from the  cart\n",
    "        elif choice in opt['delete_options']:\n",
    "            product = input(txt['delete_name']).lower().strip()\n",
    "            shopping_cart.delete_product(product)\n",
    "\n",
    "        # input prompts for quitting\n",
    "        elif choice in opt['quit_options']:\n",
    "            print(txt['quit_message'])\n",
    "            shopping_cart.show_cart()\n",
    "            application_running = False\n",
    "\n",
    "        # input prompts for reducing the quantity of an item already in the cart\n",
    "        elif choice in opt['reduce_options']:\n",
    "            product = input(txt['reduce_name']).lower().strip()\n",
    "            shopping_cart.decrease_product(product)\n",
    "\n",
    "        input(txt[\"continue\"])\n",
    "\n",
    "main()"
   ]
  },
  {
   "cell_type": "markdown",
   "metadata": {},
   "source": [
    "### Exercise 2 - Write a Python class which has two methods get_String and print_String. get_String accept a string from the user and print_String print the string in upper case"
   ]
  },
  {
   "cell_type": "code",
   "execution_count": null,
   "metadata": {},
   "outputs": [],
   "source": [
    "class PrintString:\n",
    "    def __init__(self):\n",
    "        self.user_string = ''\n",
    "        \n",
    "    def get_String(self):\n",
    "        sin = input(\"What would you like to scream into the void? \")\n",
    "        self.print_String(sin)\n",
    "    \n",
    "    def print_String(self, string):\n",
    "        print(string.upper())\n",
    "\n",
    "up_string = PrintString()\n",
    "\n",
    "up_string.get_String()\n",
    "\n"
   ]
  },
  {
   "cell_type": "code",
   "execution_count": null,
   "metadata": {},
   "outputs": [],
   "source": []
  }
 ],
 "metadata": {
  "kernelspec": {
   "display_name": "Python 3 (ipykernel)",
   "language": "python",
   "name": "python3"
  },
  "language_info": {
   "codemirror_mode": {
    "name": "ipython",
    "version": 3
   },
   "file_extension": ".py",
   "mimetype": "text/x-python",
   "name": "python",
   "nbconvert_exporter": "python",
   "pygments_lexer": "ipython3",
   "version": "3.9.12"
  }
 },
 "nbformat": 4,
 "nbformat_minor": 2
}
